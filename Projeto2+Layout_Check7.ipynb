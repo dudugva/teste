{
 "cells": [
  {
   "cell_type": "markdown",
   "metadata": {},
   "source": [
    "___\n",
    "# Ciência dos Dados - PROJETO 2"
   ]
  },
  {
   "cell_type": "markdown",
   "metadata": {},
   "source": [
    "___\n",
    "## Eduardo Gonçalves Vaz\n",
    "\n",
    "## Gabriel Heusi Pereira Bueno de Camargo\n",
    "\n",
    "___"
   ]
  },
  {
   "cell_type": "markdown",
   "metadata": {},
   "source": [
    "___\n",
    "\n",
    "## 1. Problema\n",
    "\n",
    "O Classificador Naive-Bayes, o qual se baseia no uso do teorema de Bayes, é largamente utilizado em filtros anti-spam de e-mails. O classificador permite calcular qual a probabilidade de uma mensagem ser SPAM considerando as palavras em seu conteúdo e, de forma complementar, permite calcular a probabilidade de uma mensagem ser HAM dada as palavras descritas na mensagem.\n",
    "\n",
    "Para realizar o MVP (minimum viable product) do projeto, você precisa programar uma versão do classificador que \"aprende\" o que é uma mensagem SPAM considerando uma base de treinamento e comparar o desempenho dos resultados com uma base de testes. \n"
   ]
  },
  {
   "cell_type": "markdown",
   "metadata": {},
   "source": [
    "___\n",
    "## 2. Separação da base de dados em Treinamento e Teste\n",
    "\n",
    "A base de dados deve ser separada em duas partes, aleatoriamente, considerando: \n",
    "    \n",
    "    75% dos dados para a parte Treinamento; e\n",
    "    25% dos dados para a parte Teste."
   ]
  },
  {
   "cell_type": "code",
   "execution_count": 291,
   "metadata": {
    "collapsed": true
   },
   "outputs": [],
   "source": [
    "import pandas as pd\n",
    "import os\n",
    "import numpy as np\n",
    "from sklearn.model_selection import train_test_split"
   ]
  },
  {
   "cell_type": "code",
   "execution_count": 292,
   "metadata": {
    "collapsed": false
   },
   "outputs": [
    {
     "name": "stdout",
     "output_type": "stream",
     "text": [
      "Esperamos trabalhar no diretório\n",
      "C:\\Users\\Dudu Vaz\\Desktop\n"
     ]
    }
   ],
   "source": [
    "print('Esperamos trabalhar no diretório')\n",
    "print(os.getcwd())"
   ]
  },
  {
   "cell_type": "code",
   "execution_count": 293,
   "metadata": {
    "collapsed": false
   },
   "outputs": [
    {
     "data": {
      "text/html": [
       "<div>\n",
       "<table border=\"1\" class=\"dataframe\">\n",
       "  <thead>\n",
       "    <tr style=\"text-align: right;\">\n",
       "      <th></th>\n",
       "      <th>Email</th>\n",
       "      <th>Class</th>\n",
       "    </tr>\n",
       "  </thead>\n",
       "  <tbody>\n",
       "    <tr>\n",
       "      <th>0</th>\n",
       "      <td>Go until jurong point, crazy.. Available only ...</td>\n",
       "      <td>ham</td>\n",
       "    </tr>\n",
       "    <tr>\n",
       "      <th>1</th>\n",
       "      <td>Ok lar... Joking wif u oni...</td>\n",
       "      <td>ham</td>\n",
       "    </tr>\n",
       "    <tr>\n",
       "      <th>2</th>\n",
       "      <td>Free entry in 2 a wkly comp to win FA Cup fina...</td>\n",
       "      <td>spam</td>\n",
       "    </tr>\n",
       "    <tr>\n",
       "      <th>3</th>\n",
       "      <td>U dun say so early hor... U c already then say...</td>\n",
       "      <td>ham</td>\n",
       "    </tr>\n",
       "    <tr>\n",
       "      <th>4</th>\n",
       "      <td>Nah I don't think he goes to usf, he lives aro...</td>\n",
       "      <td>ham</td>\n",
       "    </tr>\n",
       "  </tbody>\n",
       "</table>\n",
       "</div>"
      ],
      "text/plain": [
       "                                               Email Class\n",
       "0  Go until jurong point, crazy.. Available only ...   ham\n",
       "1                      Ok lar... Joking wif u oni...   ham\n",
       "2  Free entry in 2 a wkly comp to win FA Cup fina...  spam\n",
       "3  U dun say so early hor... U c already then say...   ham\n",
       "4  Nah I don't think he goes to usf, he lives aro...   ham"
      ]
     },
     "execution_count": 293,
     "metadata": {},
     "output_type": "execute_result"
    }
   ],
   "source": [
    "dados = pd.read_excel(\"spamhamV2.xlsx\")\n",
    "dados.head()"
   ]
  },
  {
   "cell_type": "code",
   "execution_count": 294,
   "metadata": {
    "collapsed": false
   },
   "outputs": [
    {
     "data": {
      "text/html": [
       "<div>\n",
       "<table border=\"1\" class=\"dataframe\">\n",
       "  <thead>\n",
       "    <tr style=\"text-align: right;\">\n",
       "      <th></th>\n",
       "      <th>Email</th>\n",
       "      <th>Class</th>\n",
       "    </tr>\n",
       "  </thead>\n",
       "  <tbody>\n",
       "    <tr>\n",
       "      <th>count</th>\n",
       "      <td>4179</td>\n",
       "      <td>4179</td>\n",
       "    </tr>\n",
       "    <tr>\n",
       "      <th>unique</th>\n",
       "      <td>3925</td>\n",
       "      <td>2</td>\n",
       "    </tr>\n",
       "    <tr>\n",
       "      <th>top</th>\n",
       "      <td>Sorry, I'll call later</td>\n",
       "      <td>ham</td>\n",
       "    </tr>\n",
       "    <tr>\n",
       "      <th>freq</th>\n",
       "      <td>20</td>\n",
       "      <td>3605</td>\n",
       "    </tr>\n",
       "  </tbody>\n",
       "</table>\n",
       "</div>"
      ],
      "text/plain": [
       "                         Email Class\n",
       "count                     4179  4179\n",
       "unique                    3925     2\n",
       "top     Sorry, I'll call later   ham\n",
       "freq                        20  3605"
      ]
     },
     "execution_count": 294,
     "metadata": {},
     "output_type": "execute_result"
    }
   ],
   "source": [
    "train, test = train_test_split(dados, test_size=0.25)\n",
    "train.describe()\n"
   ]
  },
  {
   "cell_type": "code",
   "execution_count": 295,
   "metadata": {
    "collapsed": false
   },
   "outputs": [
    {
     "data": {
      "text/html": [
       "<div>\n",
       "<table border=\"1\" class=\"dataframe\">\n",
       "  <thead>\n",
       "    <tr style=\"text-align: right;\">\n",
       "      <th></th>\n",
       "      <th>Email</th>\n",
       "      <th>Class</th>\n",
       "    </tr>\n",
       "  </thead>\n",
       "  <tbody>\n",
       "    <tr>\n",
       "      <th>3429</th>\n",
       "      <td>You've always been the brainy one.</td>\n",
       "      <td>ham</td>\n",
       "    </tr>\n",
       "    <tr>\n",
       "      <th>1083</th>\n",
       "      <td>Wat makes some people dearer is not just de ha...</td>\n",
       "      <td>ham</td>\n",
       "    </tr>\n",
       "    <tr>\n",
       "      <th>1043</th>\n",
       "      <td>Mmm thats better now i got a roast down me! iå...</td>\n",
       "      <td>ham</td>\n",
       "    </tr>\n",
       "    <tr>\n",
       "      <th>4252</th>\n",
       "      <td>Juz now havent woke up so a bit blur blur... C...</td>\n",
       "      <td>ham</td>\n",
       "    </tr>\n",
       "    <tr>\n",
       "      <th>4072</th>\n",
       "      <td>Was the actual exam harder than NBME</td>\n",
       "      <td>ham</td>\n",
       "    </tr>\n",
       "  </tbody>\n",
       "</table>\n",
       "</div>"
      ],
      "text/plain": [
       "                                                  Email Class\n",
       "3429                 You've always been the brainy one.   ham\n",
       "1083  Wat makes some people dearer is not just de ha...   ham\n",
       "1043  Mmm thats better now i got a roast down me! iå...   ham\n",
       "4252  Juz now havent woke up so a bit blur blur... C...   ham\n",
       "4072               Was the actual exam harder than NBME   ham"
      ]
     },
     "execution_count": 295,
     "metadata": {},
     "output_type": "execute_result"
    }
   ],
   "source": [
    "train.head()"
   ]
  },
  {
   "cell_type": "code",
   "execution_count": 296,
   "metadata": {
    "collapsed": false
   },
   "outputs": [],
   "source": [
    "train = train.reset_index()"
   ]
  },
  {
   "cell_type": "code",
   "execution_count": 297,
   "metadata": {
    "collapsed": false
   },
   "outputs": [
    {
     "data": {
      "text/html": [
       "<div>\n",
       "<table border=\"1\" class=\"dataframe\">\n",
       "  <thead>\n",
       "    <tr style=\"text-align: right;\">\n",
       "      <th></th>\n",
       "      <th>Email</th>\n",
       "      <th>Class</th>\n",
       "    </tr>\n",
       "  </thead>\n",
       "  <tbody>\n",
       "    <tr>\n",
       "      <th>count</th>\n",
       "      <td>1393</td>\n",
       "      <td>1393</td>\n",
       "    </tr>\n",
       "    <tr>\n",
       "      <th>unique</th>\n",
       "      <td>1351</td>\n",
       "      <td>2</td>\n",
       "    </tr>\n",
       "    <tr>\n",
       "      <th>top</th>\n",
       "      <td>Sorry, I'll call later</td>\n",
       "      <td>ham</td>\n",
       "    </tr>\n",
       "    <tr>\n",
       "      <th>freq</th>\n",
       "      <td>10</td>\n",
       "      <td>1220</td>\n",
       "    </tr>\n",
       "  </tbody>\n",
       "</table>\n",
       "</div>"
      ],
      "text/plain": [
       "                         Email Class\n",
       "count                     1393  1393\n",
       "unique                    1351     2\n",
       "top     Sorry, I'll call later   ham\n",
       "freq                        10  1220"
      ]
     },
     "execution_count": 297,
     "metadata": {},
     "output_type": "execute_result"
    }
   ],
   "source": [
    "test.describe()"
   ]
  },
  {
   "cell_type": "code",
   "execution_count": 298,
   "metadata": {
    "collapsed": false
   },
   "outputs": [
    {
     "data": {
      "text/html": [
       "<div>\n",
       "<table border=\"1\" class=\"dataframe\">\n",
       "  <thead>\n",
       "    <tr style=\"text-align: right;\">\n",
       "      <th></th>\n",
       "      <th>Email</th>\n",
       "      <th>Class</th>\n",
       "    </tr>\n",
       "  </thead>\n",
       "  <tbody>\n",
       "    <tr>\n",
       "      <th>1089</th>\n",
       "      <td>Goodmorning today i am late for  &amp;lt;DECIMAL&amp;g...</td>\n",
       "      <td>ham</td>\n",
       "    </tr>\n",
       "    <tr>\n",
       "      <th>2</th>\n",
       "      <td>Free entry in 2 a wkly comp to win FA Cup fina...</td>\n",
       "      <td>spam</td>\n",
       "    </tr>\n",
       "    <tr>\n",
       "      <th>3050</th>\n",
       "      <td>Awesome question with a cute answer: Someone a...</td>\n",
       "      <td>ham</td>\n",
       "    </tr>\n",
       "    <tr>\n",
       "      <th>2773</th>\n",
       "      <td>Dude u knw also telugu..thts gud..k, gud nyt..</td>\n",
       "      <td>ham</td>\n",
       "    </tr>\n",
       "    <tr>\n",
       "      <th>4339</th>\n",
       "      <td>I want to sent  &amp;lt;#&amp;gt; mesages today. Thats...</td>\n",
       "      <td>ham</td>\n",
       "    </tr>\n",
       "  </tbody>\n",
       "</table>\n",
       "</div>"
      ],
      "text/plain": [
       "                                                  Email Class\n",
       "1089  Goodmorning today i am late for  &lt;DECIMAL&g...   ham\n",
       "2     Free entry in 2 a wkly comp to win FA Cup fina...  spam\n",
       "3050  Awesome question with a cute answer: Someone a...   ham\n",
       "2773     Dude u knw also telugu..thts gud..k, gud nyt..   ham\n",
       "4339  I want to sent  &lt;#&gt; mesages today. Thats...   ham"
      ]
     },
     "execution_count": 298,
     "metadata": {},
     "output_type": "execute_result"
    }
   ],
   "source": [
    "test.head()"
   ]
  },
  {
   "cell_type": "code",
   "execution_count": 299,
   "metadata": {
    "collapsed": false
   },
   "outputs": [
    {
     "name": "stdout",
     "output_type": "stream",
     "text": [
      "13045\n"
     ]
    }
   ],
   "source": [
    "separ=[]\n",
    "for y in range(len(train)):\n",
    "    separ.append(dados.iloc[y,0].split())\n",
    "\n",
    "words1 =[] \n",
    "for i in separ:\n",
    "    for h in i:\n",
    "        if h not in words1:\n",
    "            words1.append(h)\n",
    "print(len(words1))"
   ]
  },
  {
   "cell_type": "markdown",
   "metadata": {},
   "source": [
    "### Com auxílio da biblioteca \"Sklearn\" foi possível separar as bases em treinamento e teste da maneira correta, afinal o descibre ajuda a entender que o treinamento representa 75% do total e os outros 25% para a parte de teste."
   ]
  },
  {
   "cell_type": "code",
   "execution_count": 300,
   "metadata": {
    "collapsed": false
   },
   "outputs": [],
   "source": [
    "\n",
    "train_ham = train[train.Class == \"ham\"]\n",
    "\n",
    "train_spam = train[train.Class == \"spam\"]\n"
   ]
  },
  {
   "cell_type": "markdown",
   "metadata": {},
   "source": [
    "___\n",
    "## 3. Classificador Naive-Bayes"
   ]
  },
  {
   "cell_type": "code",
   "execution_count": 301,
   "metadata": {
    "collapsed": false
   },
   "outputs": [],
   "source": [
    "separacao_ham=[]\n",
    "for y in range(len(train_ham)):\n",
    "    separacao_ham.append(dados.iloc[y,0].split())\n",
    "words_ham =[] \n",
    "for i in separacao_ham:\n",
    "    for h in i:\n",
    "        if h not in words_ham:\n",
    "            words_ham.append(h)\n",
    "\n"
   ]
  },
  {
   "cell_type": "code",
   "execution_count": 302,
   "metadata": {
    "collapsed": false
   },
   "outputs": [
    {
     "name": "stdout",
     "output_type": "stream",
     "text": [
      "3415\n"
     ]
    }
   ],
   "source": [
    "separacao_spam=[]\n",
    "for y in range(len(train_spam)):\n",
    "    separacao_spam.append(dados.iloc[y,0].split())\n",
    "\n",
    "words_spam =[] \n",
    "for i in separacao_spam:\n",
    "    for s in i:\n",
    "        if s not in words_spam:\n",
    "            words_spam.append(s)\n",
    "print(len(words_spam))"
   ]
  },
  {
   "cell_type": "code",
   "execution_count": 303,
   "metadata": {
    "collapsed": false
   },
   "outputs": [],
   "source": [
    "train[\"Email\"] = train.Email.str.replace(\",\",\" \")\n",
    "train[\"Email\"] = train.Email.str.replace(\"$\",\" \")\n",
    "train[\"Email\"] = train.Email.str.replace(\"+\",\" \")\n",
    "train[\"Email\"] = train.Email.str.replace(\"-\",\" \")\n",
    "train[\"Email\"] = train.Email.str.replace(\"=\",\" \")\n",
    "train[\"Email\"] = train.Email.str.replace(\"%\",\" \")\n",
    "train[\"Email\"] = train.Email.str.replace(\"*\",\" \")\n",
    "train[\"Email\"] = train.Email.str.replace(\"/\",\" \")\n",
    "train[\"Email\"] = train.Email.str.replace(\"/n\",\" \")\n",
    "train[\"Email\"] = train.Email.str.replace(\":\",\" \")\n",
    "train[\"Email\"] = train.Email.str.replace(\"(\",\" \")\n",
    "train[\"Email\"] = train.Email.str.replace(\")\",\" \")\n",
    "train[\"Email\"] = train.Email.str.replace(\"~\",\" \")\n",
    "train[\"Email\"] = train.Email.str.replace(\"[\",\" \")\n",
    "train[\"Email\"] = train.Email.str.replace(\"]\",\" \")\n",
    "train[\"Email\"] = train.Email.str.replace(\".\",\" \")\n",
    "train[\"Email\"] = train.Email.str.replace(\";\",\" \")\n",
    "train[\"Email\"] = train.Email.str.replace(\"_\",\" \")\n",
    "train[\"Email\"] = train.Email.str.replace(\"  \",\" \")\n",
    "train[\"Email\"] = train.Email.str.lower()\n",
    "train[\"Email\"] = train.Email.str.split()"
   ]
  },
  {
   "cell_type": "code",
   "execution_count": 304,
   "metadata": {
    "collapsed": false
   },
   "outputs": [
    {
     "name": "stdout",
     "output_type": "stream",
     "text": [
      "Probabilidade de ser Ham: 0.8626465661641541\n",
      "Probabilidade de ser Spam: 0.1373534338358459\n"
     ]
    }
   ],
   "source": [
    "total_ham = len(train_ham)\n",
    "total_spam = len(train_spam)\n",
    "total_train = len(train)\n",
    "\n",
    "prob_ham = total_ham/total_train\n",
    "prob_spam = total_spam/total_train\n",
    "    \n",
    "print(\"Probabilidade de ser Ham: {}\" .format(prob_ham))\n",
    "print(\"Probabilidade de ser Spam: {}\" .format(prob_spam))"
   ]
  },
  {
   "cell_type": "markdown",
   "metadata": {},
   "source": [
    "### Anteriormente já se definiu o número de palavras de cada tipo de email, dessa maneira para se calcular a probabilidade será simples e demonstrado a seguir."
   ]
  },
  {
   "cell_type": "code",
   "execution_count": 305,
   "metadata": {
    "collapsed": false
   },
   "outputs": [
    {
     "name": "stdout",
     "output_type": "stream",
     "text": [
      "Probabilidade de uma palavra selecionada ser de um Spam: 0.2223886428757489\n"
     ]
    }
   ],
   "source": [
    "totalwords = (len(words_spam))+(len(words_ham))\n",
    "probwordSP = (len(words_spam))/totalwords\n",
    "print(\"Probabilidade de uma palavra selecionada ser de um Spam: {}\" .format(probwordSP))"
   ]
  },
  {
   "cell_type": "code",
   "execution_count": 306,
   "metadata": {
    "collapsed": false
   },
   "outputs": [
    {
     "name": "stdout",
     "output_type": "stream",
     "text": [
      "Probabilidade de uma palavra selecionada ser de uma Ham: 0.7776113571242511\n"
     ]
    }
   ],
   "source": [
    "probwordH = (len(words_ham))/totalwords\n",
    "print(\"Probabilidade de uma palavra selecionada ser de uma Ham: {}\" .format(probwordH))"
   ]
  },
  {
   "cell_type": "code",
   "execution_count": 307,
   "metadata": {
    "collapsed": false
   },
   "outputs": [
    {
     "name": "stdout",
     "output_type": "stream",
     "text": [
      "11941\n",
      "3415\n"
     ]
    }
   ],
   "source": [
    "from collections import Counter\n",
    "\n",
    "count_ham = Counter(words_ham)\n",
    "count_spam = Counter(words_spam)\n",
    "\n",
    "print(len(count_ham))\n",
    "\n",
    "print(len(count_spam))"
   ]
  },
  {
   "cell_type": "code",
   "execution_count": null,
   "metadata": {
    "collapsed": true
   },
   "outputs": [],
   "source": []
  },
  {
   "cell_type": "code",
   "execution_count": 313,
   "metadata": {
    "collapsed": false
   },
   "outputs": [],
   "source": [
    "dic1 = {}\n",
    "for i in range(len(separacao_spam)):\n",
    "    for word in separacao_spam[i]:\n",
    "        if word not in dic:\n",
    "            dic1[word] = 1\n",
    "        else:\n",
    "            dic1[word] =+1\n",
    "            "
   ]
  },
  {
   "cell_type": "code",
   "execution_count": 310,
   "metadata": {
    "collapsed": false
   },
   "outputs": [],
   "source": [
    "totalwordspam = len(words_spam)\n",
    "totalwordsham = len(words_ham)\n",
    "totaldifwords = len(count_ham)+len(count_spam)"
   ]
  },
  {
   "cell_type": "code",
   "execution_count": 320,
   "metadata": {
    "collapsed": false
   },
   "outputs": [],
   "source": [
    "def calculo(email):\n",
    "    for word in email:\n",
    "        if word in dic1:\n",
    "            (dic1[word]/len(words_spam))+(1/totaldifwords)\n",
    "        else:\n",
    "            prob_spam = (prob_spam+1)/len(train_spam)\n",
    "            prob_ham = (prob_ham+1)/len(train_ham)\n",
    "        if prob_spam>prob_ham:\n",
    "            return(\"spam\")\n",
    "        else:\n",
    "            return(\"ham\")\n",
    "            \n",
    "            \n",
    "    "
   ]
  },
  {
   "cell_type": "markdown",
   "metadata": {},
   "source": [
    "Para calcular a probabilidade de ser SPAM dado uma mensagem ou de ser HAM dado uma mensagem, calculamos utilizando a função acima, que lê a mensagem entregue, identifica se ela está presente no dicionário e acessa o \"value\" daquela palavra que é uma key. Esse \"value\" vai nos dar a frequência na qual essa palavra apareceu na base de dados. Essa frequência é o que diferencia na propabilidade final."
   ]
  },
  {
   "cell_type": "code",
   "execution_count": null,
   "metadata": {
    "collapsed": false
   },
   "outputs": [],
   "source": [
    "\n"
   ]
  },
  {
   "cell_type": "code",
   "execution_count": null,
   "metadata": {
    "collapsed": false
   },
   "outputs": [],
   "source": []
  },
  {
   "cell_type": "code",
   "execution_count": null,
   "metadata": {
    "collapsed": true
   },
   "outputs": [],
   "source": []
  },
  {
   "cell_type": "code",
   "execution_count": null,
   "metadata": {
    "collapsed": false
   },
   "outputs": [],
   "source": []
  },
  {
   "cell_type": "markdown",
   "metadata": {},
   "source": [
    "___\n",
    "## 4. Curva ROC"
   ]
  },
  {
   "cell_type": "markdown",
   "metadata": {
    "collapsed": true
   },
   "source": [
    "Não conseguimos chegar em um código funcional."
   ]
  },
  {
   "cell_type": "code",
   "execution_count": null,
   "metadata": {
    "collapsed": true
   },
   "outputs": [],
   "source": []
  },
  {
   "cell_type": "code",
   "execution_count": null,
   "metadata": {
    "collapsed": true
   },
   "outputs": [],
   "source": []
  },
  {
   "cell_type": "markdown",
   "metadata": {},
   "source": [
    "___\n",
    "## 5. Qualidade do Classificador alterando a base de treinamento"
   ]
  },
  {
   "cell_type": "markdown",
   "metadata": {
    "collapsed": true
   },
   "source": [
    "Não finalizamos a curva roc e logo não chegamos a um código funcional nesse ponto."
   ]
  },
  {
   "cell_type": "code",
   "execution_count": null,
   "metadata": {
    "collapsed": true
   },
   "outputs": [],
   "source": []
  },
  {
   "cell_type": "code",
   "execution_count": null,
   "metadata": {
    "collapsed": true
   },
   "outputs": [],
   "source": []
  },
  {
   "cell_type": "code",
   "execution_count": null,
   "metadata": {
    "collapsed": true
   },
   "outputs": [],
   "source": []
  }
 ],
 "metadata": {
  "anaconda-cloud": {},
  "kernelspec": {
   "display_name": "Python 3",
   "language": "python",
   "name": "python3"
  },
  "language_info": {
   "codemirror_mode": {
    "name": "ipython",
    "version": 3
   },
   "file_extension": ".py",
   "mimetype": "text/x-python",
   "name": "python",
   "nbconvert_exporter": "python",
   "pygments_lexer": "ipython3",
   "version": "3.6.0"
  }
 },
 "nbformat": 4,
 "nbformat_minor": 1
}
